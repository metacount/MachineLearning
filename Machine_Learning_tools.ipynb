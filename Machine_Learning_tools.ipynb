{
  "cells": [
    {
      "cell_type": "markdown",
      "metadata": {
        "id": "3HQ_8lweGzde"
      },
      "source": [
        "# Home"
      ]
    },
    {
      "cell_type": "code",
      "execution_count": 2,
      "metadata": {
        "colab": {
          "base_uri": "https://localhost:8080/"
        },
        "id": "6FdL2NfzSlRq",
        "outputId": "ceec534d-841c-49ff-9624-0c024728ffdb"
      },
      "outputs": [
        {
          "output_type": "stream",
          "name": "stdout",
          "text": [
            "Drive already mounted at /content/gdrive; to attempt to forcibly remount, call drive.mount(\"/content/gdrive\", force_remount=True).\n"
          ]
        }
      ],
      "source": [
        "from google.colab import drive\n",
        "import pandas as pd\n",
        "import os\n",
        "import json\n",
        "from importlib import reload\n",
        "drive.mount('/content/gdrive')\n",
        "root_dir = '/content/gdrive/MyDrive/HomeCredit/'\n",
        "os.chdir(root_dir)\n",
        "import numpy as np\n",
        "import eda as eda\n",
        "import aggregations as aggs\n",
        "import shutil\n",
        "import machine_learning as ml\n",
        "from hyperopt import hp\n",
        "import joblib\n",
        "\n",
        "pid = 'SK_ID_CURR'\n",
        "sid1 = 'SK_ID_BUREAU'\n",
        "sid2 = 'SK_ID_PREV'\n",
        "id_columns = [pid,sid1,sid2]\n",
        "functions = ['mean', 'min', 'max', 'std', 'median','sum']\n",
        "csv_dir = 'csv/historical/'\n",
        "agg_dir = 'csv/aggregated/'\n",
        "sec_id_files = ['bureau_balance.csv']\n",
        "id_file = 'bureau.csv'\n",
        "csv_dir = 'csv/historical/'\n",
        "clean_app_file = 'csv/applications_clean.csv'\n",
        "target = 'TARGET'\n",
        "corr_matrix_path = 'csv/corr_matrix.csv'\n",
        "clf_dir = 'clasifiers/'\n",
        "merged_file = 'csv/merged.csv'\n",
        "\n",
        "base_params = {\n",
        "    'objective': 'binary',\n",
        "    'metric': 'auc',\n",
        "    'force_row_wise':'true',\n",
        "    'is_unbalance': True,\n",
        "    'early_stopping_rounds': 10,\n",
        "    'verbose':-1\n",
        "}"
      ]
    },
    {
      "cell_type": "markdown",
      "metadata": {
        "id": "9s3i1LIX9px2"
      },
      "source": [
        "Tables will be aggregated directly on current ID.\n",
        "\n",
        "Exeption bureau balance: it will be first aggregated on bureau ID and then merged and aggregated with current ID."
      ]
    },
    {
      "cell_type": "markdown",
      "metadata": {
        "id": "fMUQ1isoTBYv"
      },
      "source": [
        "# Base model"
      ]
    },
    {
      "cell_type": "code",
      "execution_count": null,
      "metadata": {
        "id": "dQ1MslrvotPw"
      },
      "outputs": [],
      "source": [
        "df = pd.read_csv('csv/applications.csv')\n",
        "df = ml.create_categorical(df)"
      ]
    },
    {
      "cell_type": "code",
      "execution_count": null,
      "metadata": {
        "colab": {
          "base_uri": "https://localhost:8080/"
        },
        "id": "A2HCxiLVGXfp",
        "outputId": "f9fc54ab-f564-49b5-aa08-a23cb196bb7b"
      },
      "outputs": [
        {
          "name": "stdout",
          "output_type": "stream",
          "text": [
            "0.6796843209988104\n"
          ]
        }
      ],
      "source": [
        "clf = ml.classifier(df, base_params, target, 'LGB Base')"
      ]
    },
    {
      "cell_type": "code",
      "execution_count": null,
      "metadata": {
        "id": "1Q73HMnbD5a0"
      },
      "outputs": [],
      "source": [
        "feature_importance = ml.feature_importance(clf)\n",
        "selected = feature_importance['Feature'].tolist()[:42]\n",
        "selected.append(target)"
      ]
    },
    {
      "cell_type": "code",
      "execution_count": null,
      "metadata": {
        "colab": {
          "base_uri": "https://localhost:8080/"
        },
        "id": "p6mSBxbVNMKr",
        "outputId": "642249bd-9c18-4794-855b-8adccd80980f"
      },
      "outputs": [
        {
          "name": "stdout",
          "output_type": "stream",
          "text": [
            "0.6774750307174615\n"
          ]
        }
      ],
      "source": [
        "clf = ml.classifier(df[selected], base_params, target, 'LGB S42')"
      ]
    },
    {
      "cell_type": "markdown",
      "metadata": {
        "id": "YzKnLlVeBMU7"
      },
      "source": [
        "# HP tuning"
      ]
    },
    {
      "cell_type": "code",
      "execution_count": null,
      "metadata": {
        "id": "S_nOW24-NKj7"
      },
      "outputs": [],
      "source": [
        "clf = joblib.load('classifiers/LGB Base.pkl')"
      ]
    },
    {
      "cell_type": "code",
      "execution_count": null,
      "metadata": {
        "colab": {
          "base_uri": "https://localhost:8080/"
        },
        "id": "eam8s4sOdN8Y",
        "outputId": "f51b6566-6e73-4146-e903-0635cd131adc"
      },
      "outputs": [
        {
          "name": "stdout",
          "output_type": "stream",
          "text": [
            "100%|██████████| 20/20 [02:24<00:00,  7.23s/trial, best loss: -0.7448796941361748]\n"
          ]
        }
      ],
      "source": [
        "search_space = {\n",
        "    'n_estimators': hp.quniform('n_estimators', 50, 150, 2),\n",
        "    'num_leaves': hp.quniform('num_leaves', 20, 50, 2),\n",
        "}\n",
        "fixed_params = clf.get_params()\n",
        "combined_params = ml.hyper_parameter_tuning(df[selected],\n",
        "                                        fixed_params,\n",
        "                                        search_space,\n",
        "                                        target)"
      ]
    },
    {
      "cell_type": "code",
      "execution_count": null,
      "metadata": {
        "colab": {
          "base_uri": "https://localhost:8080/"
        },
        "id": "y7iKpkQxd38_",
        "outputId": "0c46f231-2023-4262-bf38-78e90966beec"
      },
      "outputs": [
        {
          "name": "stdout",
          "output_type": "stream",
          "text": [
            "0.7438314042621517\n"
          ]
        }
      ],
      "source": [
        "clf = ml.classifier(df, combined_params, target, 'LGB HP S42')"
      ]
    },
    {
      "cell_type": "markdown",
      "metadata": {
        "id": "rI-NIqDT-916"
      },
      "source": [
        "# Feature Engineering"
      ]
    },
    {
      "cell_type": "code",
      "execution_count": null,
      "metadata": {
        "colab": {
          "base_uri": "https://localhost:8080/"
        },
        "id": "ej1_8zCuo3uk",
        "outputId": "50683854-51d9-47ab-953c-e3e079c415a1"
      },
      "outputs": [
        {
          "data": {
            "text/plain": [
              "171426    117000000.0\n",
              "Name: AMT_INCOME_TOTAL, dtype: float64"
            ]
          },
          "execution_count": 3,
          "metadata": {},
          "output_type": "execute_result"
        }
      ],
      "source": [
        "df[df['AMT_INCOME_TOTAL'] > 29269237]['AMT_INCOME_TOTAL']"
      ]
    },
    {
      "cell_type": "code",
      "execution_count": null,
      "metadata": {
        "id": "D4NvBIuo-81j"
      },
      "outputs": [],
      "source": [
        "df_cleaned = df.drop(index=171426)"
      ]
    },
    {
      "cell_type": "code",
      "execution_count": null,
      "metadata": {
        "id": "s7nOOJE1_l8x"
      },
      "outputs": [],
      "source": [
        "eda.to_csv(clean_app_file,df_cleaned)"
      ]
    },
    {
      "cell_type": "markdown",
      "metadata": {
        "id": "LlQMo5CA8Fiw"
      },
      "source": [
        "Get curr id for table with secondary id"
      ]
    },
    {
      "cell_type": "code",
      "execution_count": null,
      "metadata": {
        "id": "q3uwlopsm2R6"
      },
      "outputs": [],
      "source": [
        "aggs.add_ids(root_dir,csv_dir,id_file,sec_id_files,pid,sid1)"
      ]
    },
    {
      "cell_type": "markdown",
      "metadata": {
        "id": "3udK1Qfo8Kge"
      },
      "source": [
        "Create aggregated tables on primary id"
      ]
    },
    {
      "cell_type": "code",
      "execution_count": null,
      "metadata": {
        "id": "MXeWqZWVt0oe"
      },
      "outputs": [],
      "source": [
        "csv_files = aggs.get_csv(root_dir,csv_dir,sec_id_files)\n",
        "aggs.aggregate_tables(root_dir, csv_files,\n",
        "                      csv_dir,agg_dir, functions, id_columns)"
      ]
    },
    {
      "cell_type": "markdown",
      "metadata": {
        "id": "bzvBGoAwGWsV"
      },
      "source": [
        "Merge tables"
      ]
    },
    {
      "cell_type": "code",
      "execution_count": null,
      "metadata": {
        "id": "uG15wLLmUI-g"
      },
      "outputs": [],
      "source": [
        "agg_csv_files =  aggs.get_csv(root_dir,agg_dir,sec_id_files)\n",
        "aggs.merge_dfs(root_dir,agg_dir, clean_app_file, agg_csv_files, pid)"
      ]
    },
    {
      "cell_type": "markdown",
      "metadata": {
        "id": "yFqd_R88df-L"
      },
      "source": [
        "# Feature Selection"
      ]
    },
    {
      "cell_type": "code",
      "execution_count": null,
      "metadata": {
        "id": "ovWGhecJYnK0"
      },
      "outputs": [],
      "source": [
        "df = pd.read_csv('merged.csv')"
      ]
    },
    {
      "cell_type": "markdown",
      "metadata": {
        "id": "lGBBFwoWmhtN"
      },
      "source": [
        "## Correlation"
      ]
    },
    {
      "cell_type": "code",
      "execution_count": null,
      "metadata": {
        "id": "VMJczlaVzGjK"
      },
      "outputs": [],
      "source": [
        "numerical_df = df.select_dtypes(include='number')\n",
        "corr_matrix = eda.corr_matrix(numerical_df)"
      ]
    },
    {
      "cell_type": "code",
      "execution_count": null,
      "metadata": {
        "id": "lNX2iG2UlhpF"
      },
      "outputs": [],
      "source": [
        "eda.to_csv(corr_matrix_path,corr_matrix)"
      ]
    },
    {
      "cell_type": "code",
      "execution_count": null,
      "metadata": {
        "id": "MoH3gr6u6ZV1"
      },
      "outputs": [],
      "source": [
        "corr_matrix = pd.read_csv(corr_matrix_path)"
      ]
    },
    {
      "cell_type": "code",
      "execution_count": null,
      "metadata": {
        "id": "_P7ROL1El8lj"
      },
      "outputs": [],
      "source": [
        "corr_features = eda.corr_features(corr_matrix,0.7)"
      ]
    },
    {
      "cell_type": "markdown",
      "metadata": {
        "id": "AjzbDqCmmkZ7"
      },
      "source": [
        "## Importance"
      ]
    },
    {
      "cell_type": "code",
      "execution_count": null,
      "metadata": {
        "id": "KQw7P6ukSkSS"
      },
      "outputs": [],
      "source": [
        "lgbc = ml.load_lgb_clasifier(clf_dir+'lgbMerged.txt')"
      ]
    },
    {
      "cell_type": "code",
      "execution_count": null,
      "metadata": {
        "id": "3JFR1bSgBFAL"
      },
      "outputs": [],
      "source": [
        "feature_columns = lgbc.feature_name()"
      ]
    },
    {
      "cell_type": "code",
      "execution_count": null,
      "metadata": {
        "id": "0WmdUiiRprqA"
      },
      "outputs": [],
      "source": [
        "feature_importance = ml.feature_importance(lgbc,feature_columns)"
      ]
    },
    {
      "cell_type": "markdown",
      "metadata": {
        "id": "KlCaasfDV4r2"
      },
      "source": [
        "## Selection"
      ]
    },
    {
      "cell_type": "code",
      "execution_count": null,
      "metadata": {
        "id": "fr_Y37oUS9PT"
      },
      "outputs": [],
      "source": [
        "df = pd.read_csv('merged.csv')\n",
        "df = ml.create_categorical(df)\n",
        "df = ml.sanitize(df)"
      ]
    },
    {
      "cell_type": "code",
      "execution_count": null,
      "metadata": {
        "colab": {
          "base_uri": "https://localhost:8080/"
        },
        "id": "laK4wI82tPDm",
        "outputId": "89648e53-8822-4e1f-97d9-926e981d06a6"
      },
      "outputs": [
        {
          "name": "stdout",
          "output_type": "stream",
          "text": [
            "0.7680288908371318\n"
          ]
        }
      ],
      "source": [
        "clf = ml.classifier(df,base_params,target,'merged')"
      ]
    },
    {
      "cell_type": "code",
      "execution_count": null,
      "metadata": {
        "id": "vndvBeJqwdyy"
      },
      "outputs": [],
      "source": [
        "importance = ml.feature_importance(clf)\n",
        "important_features = importance[importance['Importance']>0]\n",
        "feature_list = important_features['Feature'].tolist()\n",
        "feature_list.append(target)\n",
        "len(feature_list)"
      ]
    },
    {
      "cell_type": "code",
      "execution_count": null,
      "metadata": {
        "colab": {
          "base_uri": "https://localhost:8080/"
        },
        "id": "3axJwvb2w9Ai",
        "outputId": "68629961-1f58-481d-de29-a5e676c34655"
      },
      "outputs": [
        {
          "name": "stdout",
          "output_type": "stream",
          "text": [
            "0.7680291493438235\n"
          ]
        }
      ],
      "source": [
        "clf = ml.classifier(df[feature_list],base_params,target,'selected401')"
      ]
    },
    {
      "cell_type": "code",
      "execution_count": null,
      "metadata": {
        "colab": {
          "base_uri": "https://localhost:8080/"
        },
        "id": "nL2qkJ2iyJBA",
        "outputId": "76e873ea-d7df-4259-c199-9b2eb3ae3618"
      },
      "outputs": [
        {
          "name": "stdout",
          "output_type": "stream",
          "text": [
            "{'boosting_type': 'gbdt', 'class_weight': None, 'colsample_bytree': 1.0, 'importance_type': 'split', 'learning_rate': 0.1, 'max_depth': -1, 'min_child_samples': 20, 'min_child_weight': 0.001, 'min_split_gain': 0.0, 'n_jobs': None, 'objective': 'binary', 'random_state': None, 'reg_alpha': 0.0, 'reg_lambda': 0.0, 'subsample': 1.0, 'subsample_for_bin': 200000, 'subsample_freq': 0, 'metric': 'auc', 'force_row_wise': 'true', 'is_unbalance': True, 'verbose': -1, 'n_estimators': 116, 'num_leaves': 46}\n",
            "100%|██████████| 1/1 [01:05<00:00, 65.96s/trial, best loss: -0.7676323318778707]\n"
          ]
        }
      ],
      "source": [
        "search_space = {\n",
        "    'n_estimators': hp.quniform('n_estimators', 50, 150, 2),\n",
        "    'num_leaves': hp.quniform('num_leaves', 20, 50, 2),\n",
        "\n",
        "}\n",
        "clf401 = joblib.load('classifiers/selected401.pkl')\n",
        "fixed_params = clf.get_params()\n",
        "combined_params = ml.hyper_parameter_tuning(df,\n",
        "                                        fixed_params,\n",
        "                                        search_space,\n",
        "                                        target)"
      ]
    },
    {
      "cell_type": "code",
      "execution_count": null,
      "metadata": {
        "colab": {
          "base_uri": "https://localhost:8080/"
        },
        "id": "NIpH5zd36XOP",
        "outputId": "6cf7bdd3-7ee7-4d9e-baea-eb723fdc5073"
      },
      "outputs": [
        {
          "data": {
            "text/plain": [
              "0.7791853919241858"
            ]
          },
          "execution_count": 45,
          "metadata": {},
          "output_type": "execute_result"
        }
      ],
      "source": [
        "X_train, X_test, y_train, y_test = ml.create_splits(df,target)\n",
        "clf = ml.lgb.LGBMClassifier(**combined_params)\n",
        "clf401.fit(X_train, y_train)\n",
        "ml.roc_auc_score(y_test,clf.predict_proba(X_test)[:,1])"
      ]
    },
    {
      "cell_type": "markdown",
      "metadata": {
        "id": "8rmR3zL4OYl3"
      },
      "source": [
        "Best score"
      ]
    },
    {
      "cell_type": "code",
      "execution_count": null,
      "metadata": {
        "colab": {
          "base_uri": "https://localhost:8080/"
        },
        "id": "-T-R3WtxI8Qp",
        "outputId": "752925c8-ff57-441e-ce51-a25420e1b7b4"
      },
      "outputs": [
        {
          "data": {
            "text/plain": [
              "['classifiers/final_v01.pkl']"
            ]
          },
          "execution_count": 138,
          "metadata": {},
          "output_type": "execute_result"
        }
      ],
      "source": [
        "joblib.dump(clf, 'classifiers/final_v01.pkl')"
      ]
    },
    {
      "cell_type": "code",
      "execution_count": null,
      "metadata": {
        "colab": {
          "base_uri": "https://localhost:8080/"
        },
        "id": "4H66KMuB8x5V",
        "outputId": "d89be9db-a087-4751-d50e-77e62bed7484"
      },
      "outputs": [
        {
          "data": {
            "text/plain": [
              "0.7794654678026096"
            ]
          },
          "execution_count": 131,
          "metadata": {},
          "output_type": "execute_result"
        }
      ],
      "source": [
        "clf = ml.lgb.LGBMClassifier(**base_params)\n",
        "clf.fit(X_train, y_train)\n",
        "ml.roc_auc_score(y_test,clf.predict_proba(X_test)[:,1])"
      ]
    },
    {
      "cell_type": "code",
      "execution_count": null,
      "metadata": {
        "colab": {
          "base_uri": "https://localhost:8080/"
        },
        "id": "xCgvrs9a9Y9l",
        "outputId": "69fc4440-867e-419b-889e-3e06ecc1f334"
      },
      "outputs": [
        {
          "data": {
            "text/plain": [
              "0.780134732011726"
            ]
          },
          "execution_count": 133,
          "metadata": {},
          "output_type": "execute_result"
        }
      ],
      "source": [
        "clf = ml.lgb.LGBMClassifier(**combined_params)\n",
        "clf.fit(X_train, y_train)\n",
        "ml.roc_auc_score(y_test,clf.predict_proba(X_test)[:,1])"
      ]
    },
    {
      "cell_type": "markdown",
      "metadata": {
        "id": "7zdodbMpXO_8"
      },
      "source": [
        "# Advanced Hyper Parameter tuning"
      ]
    },
    {
      "cell_type": "code",
      "execution_count": null,
      "metadata": {
        "id": "CE42PNG1X7F9"
      },
      "outputs": [],
      "source": [
        "clf = joblib.load(root_dir+'classifiers/final_v01.pkl')"
      ]
    },
    {
      "cell_type": "code",
      "execution_count": 5,
      "metadata": {
        "id": "H1EEoz3kYPtN"
      },
      "outputs": [],
      "source": [
        "df = pd.read_csv('csv/selected401')"
      ]
    },
    {
      "cell_type": "code",
      "execution_count": null,
      "metadata": {
        "colab": {
          "base_uri": "https://localhost:8080/"
        },
        "id": "S5oYxJSpXQ7V",
        "outputId": "7e504ac3-e222-4ade-8519-5e008425c119"
      },
      "outputs": [
        {
          "output_type": "stream",
          "name": "stdout",
          "text": [
            " 96%|█████████▌| 48/50 [41:57<01:51, 55.97s/trial, best loss: -0.7692205388284402]"
          ]
        }
      ],
      "source": [
        "search_space = {\n",
        "    'bagging_fraction': hp.uniform('bagging_fraction', low=0.5, high=1.0),\n",
        "    'bagging_freq': hp.quniform('bagging_freq', low=1, high=10, q=1),\n",
        "    'l1_reg': hp.uniform('l1_reg', low=0.001, high=0.1),\n",
        "    'l2_reg': hp.uniform('l2_reg', low=0.001, high=0.1),\n",
        "    'n_estimators': hp.quniform('n_estimators', 50, 250, 1),\n",
        "    'num_leaves': hp.quniform('num_leaves', 16, 256, 1),\n",
        "    'min_data_in_leaf': hp.quniform('min_data_in_leaf', low=5,\n",
        "                                    high=300, q=1),\n",
        "}\n",
        "name = '401BaseHP7'\n",
        "fixed_params = clf.get_params()\n",
        "combined_params = ml.hyper_parameter_tuning(df,\n",
        "                                        base_params,\n",
        "                                        search_space,\n",
        "                                        target,\n",
        "                                        name)"
      ]
    },
    {
      "cell_type": "code",
      "source": [
        "combined_params.pop('bagging_fraction')"
      ],
      "metadata": {
        "colab": {
          "base_uri": "https://localhost:8080/"
        },
        "id": "POwsn2WQknJk",
        "outputId": "8a19fc22-d1f4-4143-a748-1060bdd3dc35"
      },
      "execution_count": null,
      "outputs": [
        {
          "output_type": "execute_result",
          "data": {
            "text/plain": [
              "0"
            ]
          },
          "metadata": {},
          "execution_count": 18
        }
      ]
    },
    {
      "cell_type": "code",
      "source": [
        "ml.classifier(df,base_params,target,'401Base')"
      ],
      "metadata": {
        "colab": {
          "base_uri": "https://localhost:8080/",
          "height": 70
        },
        "id": "TWEChrmf4eEC",
        "outputId": "d5f2c438-0401-4359-8939-271bf6462481"
      },
      "execution_count": null,
      "outputs": [
        {
          "output_type": "stream",
          "name": "stdout",
          "text": [
            "0.7683941672553484\n"
          ]
        },
        {
          "output_type": "execute_result",
          "data": {
            "text/plain": [
              "LGBMClassifier(early_stopping_rounds=10, force_row_wise='true',\n",
              "               is_unbalance=True, metric='auc', objective='binary', verbose=-1)"
            ],
            "text/html": [
              "<style>#sk-container-id-1 {color: black;background-color: white;}#sk-container-id-1 pre{padding: 0;}#sk-container-id-1 div.sk-toggleable {background-color: white;}#sk-container-id-1 label.sk-toggleable__label {cursor: pointer;display: block;width: 100%;margin-bottom: 0;padding: 0.3em;box-sizing: border-box;text-align: center;}#sk-container-id-1 label.sk-toggleable__label-arrow:before {content: \"▸\";float: left;margin-right: 0.25em;color: #696969;}#sk-container-id-1 label.sk-toggleable__label-arrow:hover:before {color: black;}#sk-container-id-1 div.sk-estimator:hover label.sk-toggleable__label-arrow:before {color: black;}#sk-container-id-1 div.sk-toggleable__content {max-height: 0;max-width: 0;overflow: hidden;text-align: left;background-color: #f0f8ff;}#sk-container-id-1 div.sk-toggleable__content pre {margin: 0.2em;color: black;border-radius: 0.25em;background-color: #f0f8ff;}#sk-container-id-1 input.sk-toggleable__control:checked~div.sk-toggleable__content {max-height: 200px;max-width: 100%;overflow: auto;}#sk-container-id-1 input.sk-toggleable__control:checked~label.sk-toggleable__label-arrow:before {content: \"▾\";}#sk-container-id-1 div.sk-estimator input.sk-toggleable__control:checked~label.sk-toggleable__label {background-color: #d4ebff;}#sk-container-id-1 div.sk-label input.sk-toggleable__control:checked~label.sk-toggleable__label {background-color: #d4ebff;}#sk-container-id-1 input.sk-hidden--visually {border: 0;clip: rect(1px 1px 1px 1px);clip: rect(1px, 1px, 1px, 1px);height: 1px;margin: -1px;overflow: hidden;padding: 0;position: absolute;width: 1px;}#sk-container-id-1 div.sk-estimator {font-family: monospace;background-color: #f0f8ff;border: 1px dotted black;border-radius: 0.25em;box-sizing: border-box;margin-bottom: 0.5em;}#sk-container-id-1 div.sk-estimator:hover {background-color: #d4ebff;}#sk-container-id-1 div.sk-parallel-item::after {content: \"\";width: 100%;border-bottom: 1px solid gray;flex-grow: 1;}#sk-container-id-1 div.sk-label:hover label.sk-toggleable__label {background-color: #d4ebff;}#sk-container-id-1 div.sk-serial::before {content: \"\";position: absolute;border-left: 1px solid gray;box-sizing: border-box;top: 0;bottom: 0;left: 50%;z-index: 0;}#sk-container-id-1 div.sk-serial {display: flex;flex-direction: column;align-items: center;background-color: white;padding-right: 0.2em;padding-left: 0.2em;position: relative;}#sk-container-id-1 div.sk-item {position: relative;z-index: 1;}#sk-container-id-1 div.sk-parallel {display: flex;align-items: stretch;justify-content: center;background-color: white;position: relative;}#sk-container-id-1 div.sk-item::before, #sk-container-id-1 div.sk-parallel-item::before {content: \"\";position: absolute;border-left: 1px solid gray;box-sizing: border-box;top: 0;bottom: 0;left: 50%;z-index: -1;}#sk-container-id-1 div.sk-parallel-item {display: flex;flex-direction: column;z-index: 1;position: relative;background-color: white;}#sk-container-id-1 div.sk-parallel-item:first-child::after {align-self: flex-end;width: 50%;}#sk-container-id-1 div.sk-parallel-item:last-child::after {align-self: flex-start;width: 50%;}#sk-container-id-1 div.sk-parallel-item:only-child::after {width: 0;}#sk-container-id-1 div.sk-dashed-wrapped {border: 1px dashed gray;margin: 0 0.4em 0.5em 0.4em;box-sizing: border-box;padding-bottom: 0.4em;background-color: white;}#sk-container-id-1 div.sk-label label {font-family: monospace;font-weight: bold;display: inline-block;line-height: 1.2em;}#sk-container-id-1 div.sk-label-container {text-align: center;}#sk-container-id-1 div.sk-container {/* jupyter's `normalize.less` sets `[hidden] { display: none; }` but bootstrap.min.css set `[hidden] { display: none !important; }` so we also need the `!important` here to be able to override the default hidden behavior on the sphinx rendered scikit-learn.org. See: https://github.com/scikit-learn/scikit-learn/issues/21755 */display: inline-block !important;position: relative;}#sk-container-id-1 div.sk-text-repr-fallback {display: none;}</style><div id=\"sk-container-id-1\" class=\"sk-top-container\"><div class=\"sk-text-repr-fallback\"><pre>LGBMClassifier(early_stopping_rounds=10, force_row_wise=&#x27;true&#x27;,\n",
              "               is_unbalance=True, metric=&#x27;auc&#x27;, objective=&#x27;binary&#x27;, verbose=-1)</pre><b>In a Jupyter environment, please rerun this cell to show the HTML representation or trust the notebook. <br />On GitHub, the HTML representation is unable to render, please try loading this page with nbviewer.org.</b></div><div class=\"sk-container\" hidden><div class=\"sk-item\"><div class=\"sk-estimator sk-toggleable\"><input class=\"sk-toggleable__control sk-hidden--visually\" id=\"sk-estimator-id-1\" type=\"checkbox\" checked><label for=\"sk-estimator-id-1\" class=\"sk-toggleable__label sk-toggleable__label-arrow\">LGBMClassifier</label><div class=\"sk-toggleable__content\"><pre>LGBMClassifier(early_stopping_rounds=10, force_row_wise=&#x27;true&#x27;,\n",
              "               is_unbalance=True, metric=&#x27;auc&#x27;, objective=&#x27;binary&#x27;, verbose=-1)</pre></div></div></div></div></div>"
            ]
          },
          "metadata": {},
          "execution_count": 13
        }
      ]
    },
    {
      "cell_type": "code",
      "source": [
        "ml.classifier(df,combined_params,target,'401BaseHP7')"
      ],
      "metadata": {
        "colab": {
          "base_uri": "https://localhost:8080/",
          "height": 70
        },
        "id": "bHqYM0cugWTf",
        "outputId": "6a5a058d-163b-4198-c8e0-72b8ca7b476c"
      },
      "execution_count": null,
      "outputs": [
        {
          "output_type": "stream",
          "name": "stdout",
          "text": [
            "0.7698872598999944\n"
          ]
        },
        {
          "output_type": "execute_result",
          "data": {
            "text/plain": [
              "LGBMClassifier(bagging_freq=6, early_stopping_rounds=10, force_row_wise='true',\n",
              "               is_unbalance=True, l1_reg=0, l2_reg=0, metric='auc',\n",
              "               min_data_in_leaf=211, n_estimators=232, num_leaves=25,\n",
              "               objective='binary', verbose=-1)"
            ],
            "text/html": [
              "<style>#sk-container-id-1 {color: black;background-color: white;}#sk-container-id-1 pre{padding: 0;}#sk-container-id-1 div.sk-toggleable {background-color: white;}#sk-container-id-1 label.sk-toggleable__label {cursor: pointer;display: block;width: 100%;margin-bottom: 0;padding: 0.3em;box-sizing: border-box;text-align: center;}#sk-container-id-1 label.sk-toggleable__label-arrow:before {content: \"▸\";float: left;margin-right: 0.25em;color: #696969;}#sk-container-id-1 label.sk-toggleable__label-arrow:hover:before {color: black;}#sk-container-id-1 div.sk-estimator:hover label.sk-toggleable__label-arrow:before {color: black;}#sk-container-id-1 div.sk-toggleable__content {max-height: 0;max-width: 0;overflow: hidden;text-align: left;background-color: #f0f8ff;}#sk-container-id-1 div.sk-toggleable__content pre {margin: 0.2em;color: black;border-radius: 0.25em;background-color: #f0f8ff;}#sk-container-id-1 input.sk-toggleable__control:checked~div.sk-toggleable__content {max-height: 200px;max-width: 100%;overflow: auto;}#sk-container-id-1 input.sk-toggleable__control:checked~label.sk-toggleable__label-arrow:before {content: \"▾\";}#sk-container-id-1 div.sk-estimator input.sk-toggleable__control:checked~label.sk-toggleable__label {background-color: #d4ebff;}#sk-container-id-1 div.sk-label input.sk-toggleable__control:checked~label.sk-toggleable__label {background-color: #d4ebff;}#sk-container-id-1 input.sk-hidden--visually {border: 0;clip: rect(1px 1px 1px 1px);clip: rect(1px, 1px, 1px, 1px);height: 1px;margin: -1px;overflow: hidden;padding: 0;position: absolute;width: 1px;}#sk-container-id-1 div.sk-estimator {font-family: monospace;background-color: #f0f8ff;border: 1px dotted black;border-radius: 0.25em;box-sizing: border-box;margin-bottom: 0.5em;}#sk-container-id-1 div.sk-estimator:hover {background-color: #d4ebff;}#sk-container-id-1 div.sk-parallel-item::after {content: \"\";width: 100%;border-bottom: 1px solid gray;flex-grow: 1;}#sk-container-id-1 div.sk-label:hover label.sk-toggleable__label {background-color: #d4ebff;}#sk-container-id-1 div.sk-serial::before {content: \"\";position: absolute;border-left: 1px solid gray;box-sizing: border-box;top: 0;bottom: 0;left: 50%;z-index: 0;}#sk-container-id-1 div.sk-serial {display: flex;flex-direction: column;align-items: center;background-color: white;padding-right: 0.2em;padding-left: 0.2em;position: relative;}#sk-container-id-1 div.sk-item {position: relative;z-index: 1;}#sk-container-id-1 div.sk-parallel {display: flex;align-items: stretch;justify-content: center;background-color: white;position: relative;}#sk-container-id-1 div.sk-item::before, #sk-container-id-1 div.sk-parallel-item::before {content: \"\";position: absolute;border-left: 1px solid gray;box-sizing: border-box;top: 0;bottom: 0;left: 50%;z-index: -1;}#sk-container-id-1 div.sk-parallel-item {display: flex;flex-direction: column;z-index: 1;position: relative;background-color: white;}#sk-container-id-1 div.sk-parallel-item:first-child::after {align-self: flex-end;width: 50%;}#sk-container-id-1 div.sk-parallel-item:last-child::after {align-self: flex-start;width: 50%;}#sk-container-id-1 div.sk-parallel-item:only-child::after {width: 0;}#sk-container-id-1 div.sk-dashed-wrapped {border: 1px dashed gray;margin: 0 0.4em 0.5em 0.4em;box-sizing: border-box;padding-bottom: 0.4em;background-color: white;}#sk-container-id-1 div.sk-label label {font-family: monospace;font-weight: bold;display: inline-block;line-height: 1.2em;}#sk-container-id-1 div.sk-label-container {text-align: center;}#sk-container-id-1 div.sk-container {/* jupyter's `normalize.less` sets `[hidden] { display: none; }` but bootstrap.min.css set `[hidden] { display: none !important; }` so we also need the `!important` here to be able to override the default hidden behavior on the sphinx rendered scikit-learn.org. See: https://github.com/scikit-learn/scikit-learn/issues/21755 */display: inline-block !important;position: relative;}#sk-container-id-1 div.sk-text-repr-fallback {display: none;}</style><div id=\"sk-container-id-1\" class=\"sk-top-container\"><div class=\"sk-text-repr-fallback\"><pre>LGBMClassifier(bagging_freq=6, early_stopping_rounds=10, force_row_wise=&#x27;true&#x27;,\n",
              "               is_unbalance=True, l1_reg=0, l2_reg=0, metric=&#x27;auc&#x27;,\n",
              "               min_data_in_leaf=211, n_estimators=232, num_leaves=25,\n",
              "               objective=&#x27;binary&#x27;, verbose=-1)</pre><b>In a Jupyter environment, please rerun this cell to show the HTML representation or trust the notebook. <br />On GitHub, the HTML representation is unable to render, please try loading this page with nbviewer.org.</b></div><div class=\"sk-container\" hidden><div class=\"sk-item\"><div class=\"sk-estimator sk-toggleable\"><input class=\"sk-toggleable__control sk-hidden--visually\" id=\"sk-estimator-id-1\" type=\"checkbox\" checked><label for=\"sk-estimator-id-1\" class=\"sk-toggleable__label sk-toggleable__label-arrow\">LGBMClassifier</label><div class=\"sk-toggleable__content\"><pre>LGBMClassifier(bagging_freq=6, early_stopping_rounds=10, force_row_wise=&#x27;true&#x27;,\n",
              "               is_unbalance=True, l1_reg=0, l2_reg=0, metric=&#x27;auc&#x27;,\n",
              "               min_data_in_leaf=211, n_estimators=232, num_leaves=25,\n",
              "               objective=&#x27;binary&#x27;, verbose=-1)</pre></div></div></div></div></div>"
            ]
          },
          "metadata": {},
          "execution_count": 20
        }
      ]
    },
    {
      "cell_type": "code",
      "source": [
        "clf401BaseHP7 = joblib.load('classifiers/401BaseHP7.pkl')\n",
        "clf401Base = joblib.load('classifiers/401Base.pkl')"
      ],
      "metadata": {
        "id": "DjoUBnOCooDa"
      },
      "execution_count": 19,
      "outputs": []
    },
    {
      "cell_type": "markdown",
      "source": [],
      "metadata": {
        "id": "L2jTQLfO6kSu"
      }
    },
    {
      "cell_type": "code",
      "source": [
        "reload(ml)"
      ],
      "metadata": {
        "colab": {
          "base_uri": "https://localhost:8080/"
        },
        "id": "8q8Hp7BX2f1Z",
        "outputId": "e45e4b1b-743d-4574-d3a0-f99a0eb620e8"
      },
      "execution_count": 78,
      "outputs": [
        {
          "output_type": "execute_result",
          "data": {
            "text/plain": [
              "<module 'machine_learning' from '/content/gdrive/MyDrive/HomeCredit/machine_learning.py'>"
            ]
          },
          "metadata": {},
          "execution_count": 78
        }
      ]
    },
    {
      "cell_type": "code",
      "source": [
        "ml.final_classifier(df,clf401BaseHP7,target,'401BaseHP7v01')"
      ],
      "metadata": {
        "id": "Q-FyWSOTvYO9"
      },
      "execution_count": 75,
      "outputs": []
    },
    {
      "cell_type": "markdown",
      "metadata": {
        "id": "7c0rHvlC4IEX"
      },
      "source": [
        "# Test script\n",
        "\n"
      ]
    },
    {
      "cell_type": "code",
      "source": [
        "ml.submission_classifier(df, clf401BaseHP7, target, '401BaseHP7v01Sub')"
      ],
      "metadata": {
        "id": "WeyJK57_0i9M"
      },
      "execution_count": null,
      "outputs": []
    },
    {
      "cell_type": "code",
      "execution_count": null,
      "metadata": {
        "id": "c2F313nAKY_m"
      },
      "outputs": [],
      "source": [
        "test_merged = aggs.merge_dfs(root_dir,agg_dir,\n",
        "                             'csv/distinct_application_test.csv',\n",
        "                             csv_files,pid)"
      ]
    },
    {
      "cell_type": "code",
      "execution_count": null,
      "metadata": {
        "id": "9FkWLBH_OH25"
      },
      "outputs": [],
      "source": [
        "test_merged = pd.read_csv('csv/merged.csv')\n",
        "test_merged = ml.sanitize(test_merged)\n",
        "clf = joblib.load('classifiers/final_v01.pkl')\n",
        "params = clf.get_params()\n",
        "df = pd.read_csv('merged.csv')\n",
        "test_merged = ml.create_categorical(test_merged)\n",
        "df = ml.sanitize(df)\n",
        "df = ml.create_categorical(df)\n",
        "\n",
        "test_clf = ml.lgb.LGBMClassifier(**params)\n",
        "test_clf.fit(df.drop(target, axis=1),df[target])\n",
        "\n",
        "predictions = test_clf.predict_proba(test_merged)\n",
        "\n",
        "results = pd.concat([test_merged[pid],\n",
        "                     pd.DataFrame(predictions[:, 1],\n",
        "                                  columns=[target])],axis=1)\n",
        "results.to_csv('predictions_v01.csv', index=False)"
      ]
    },
    {
      "cell_type": "markdown",
      "source": [
        "# Explore classifier predictions"
      ],
      "metadata": {
        "id": "w0oSbSII6qVl"
      }
    },
    {
      "cell_type": "code",
      "source": [
        "ml.get_results('classifiers/lgbApp.json')"
      ],
      "metadata": {
        "colab": {
          "base_uri": "https://localhost:8080/"
        },
        "id": "XJSVb5gN83KG",
        "outputId": "4b8a3696-620a-46ef-a07d-02675e6c02e3"
      },
      "execution_count": 52,
      "outputs": [
        {
          "output_type": "stream",
          "name": "stdout",
          "text": [
            "classification_report\n",
            "              precision    recall  f1-score   support\n",
            "\n",
            "           0       0.96      0.75      0.84     56440\n",
            "           1       0.18      0.62      0.28      5063\n",
            "\n",
            "    accuracy                           0.74     61503\n",
            "   macro avg       0.57      0.69      0.56     61503\n",
            "weighted avg       0.89      0.74      0.79     61503\n",
            "\n",
            "confusion_matrix\n",
            "[[42096, 14344], [1899, 3164]]\n",
            "roc_auc_score\n",
            "0.6853899687467324\n"
          ]
        }
      ]
    },
    {
      "cell_type": "code",
      "source": [
        "ml.get_results('classifiers/lgbMerged.json')"
      ],
      "metadata": {
        "colab": {
          "base_uri": "https://localhost:8080/"
        },
        "id": "SZVz031P-L06",
        "outputId": "3065693f-9331-4176-abae-f3d771262ae2"
      },
      "execution_count": 65,
      "outputs": [
        {
          "output_type": "stream",
          "name": "stdout",
          "text": [
            "classification_report\n",
            "              precision    recall  f1-score   support\n",
            "\n",
            "       False       0.96      0.77      0.85     56537\n",
            "        True       0.20      0.65      0.30      4965\n",
            "\n",
            "    accuracy                           0.76     61502\n",
            "   macro avg       0.58      0.71      0.58     61502\n",
            "weighted avg       0.90      0.76      0.81     61502\n",
            "\n",
            "confusion_matrix\n",
            "[[43314, 13223], [1733, 3232]]\n",
            "roc_auc_score\n",
            "0.7085372302332967\n"
          ]
        }
      ]
    },
    {
      "cell_type": "code",
      "source": [
        "ml.get_results('classifiers/401BaseHP7v01_eval.json')"
      ],
      "metadata": {
        "colab": {
          "base_uri": "https://localhost:8080/"
        },
        "id": "ppsjzxfZ-IUa",
        "outputId": "4114e548-4a07-43d5-fc26-30da5b1548ff"
      },
      "execution_count": 77,
      "outputs": [
        {
          "output_type": "stream",
          "name": "stdout",
          "text": [
            "classification_report\n",
            "              precision    recall  f1-score   support\n",
            "\n",
            "           0       0.96      0.74      0.84     59365\n",
            "           1       0.18      0.66      0.29      5213\n",
            "\n",
            "    accuracy                           0.73     64578\n",
            "   macro avg       0.57      0.70      0.56     64578\n",
            "weighted avg       0.90      0.73      0.79     64578\n",
            "\n",
            "confusion_matrix\n",
            "[[43905, 15460], [1749, 3464]]\n",
            "roc_auc_score\n",
            "0.7020349032827102\n"
          ]
        }
      ]
    }
  ],
  "metadata": {
    "colab": {
      "collapsed_sections": [
        "fMUQ1isoTBYv",
        "YzKnLlVeBMU7",
        "rI-NIqDT-916",
        "yFqd_R88df-L",
        "lGBBFwoWmhtN",
        "AjzbDqCmmkZ7"
      ],
      "provenance": []
    },
    "kernelspec": {
      "display_name": "Python 3",
      "name": "python3"
    },
    "language_info": {
      "name": "python"
    }
  },
  "nbformat": 4,
  "nbformat_minor": 0
}